{
 "cells": [
  {
   "cell_type": "code",
   "execution_count": 1,
   "id": "c2f76267-d90f-468d-bf02-ef3f6d8b9359",
   "metadata": {},
   "outputs": [],
   "source": [
    "import pyspark\n",
    "import os\n",
    "from pyspark.sql import SparkSession\n",
    "from pyspark.sql.types import StructType, StructField, IntegerType, StringType, FloatType, TimestampType \n",
    "from pyspark.sql.functions import col, substring\n",
    "from pyspark.sql.functions import col, asc,desc\n",
    "from pyspark.sql.functions import countDistinct\n",
    "from pyspark.sql.functions import to_date"
   ]
  },
  {
   "cell_type": "code",
   "execution_count": 2,
   "id": "da094c31-061a-495a-bcd0-e8a2f6778ed7",
   "metadata": {},
   "outputs": [
    {
     "name": "stdout",
     "output_type": "stream",
     "text": [
      "23/01/12 12:56:07 WARN Utils: Your hostname, alena-VirtualBox resolves to a loopback address: 127.0.1.1; using 10.0.2.15 instead (on interface enp0s3)\n",
      "23/01/12 12:56:07 WARN Utils: Set SPARK_LOCAL_IP if you need to bind to another address\n"
     ]
    },
    {
     "name": "stderr",
     "output_type": "stream",
     "text": [
      "Setting default log level to \"WARN\".\n",
      "To adjust logging level use sc.setLogLevel(newLevel). For SparkR, use setLogLevel(newLevel).\n"
     ]
    },
    {
     "name": "stdout",
     "output_type": "stream",
     "text": [
      "23/01/12 12:56:07 WARN NativeCodeLoader: Unable to load native-hadoop library for your platform... using builtin-java classes where applicable\n"
     ]
    }
   ],
   "source": [
    "spark = SparkSession.builder\\\n",
    "        .master(\"local[*]\")\\\n",
    "        .appName('PySpark_Tutorial')\\\n",
    "        .getOrCreate()"
   ]
  },
  {
   "cell_type": "code",
   "execution_count": 3,
   "id": "35e9df15-078c-4b08-ac5c-521baa202fdc",
   "metadata": {},
   "outputs": [],
   "source": [
    "my_schema = StructType() \\\n",
    "      .add(\"departure\",TimestampType (),True) \\\n",
    "      .add(\"return\",TimestampType (),True) \\\n",
    "      .add(\"departure_id\",StringType(),True) \\\n",
    "      .add(\"departure_name\",StringType(),True) \\\n",
    "      .add(\"return_id\",StringType(),True) \\\n",
    "      .add(\"return_name\",StringType(),True) \\\n",
    "      .add(\"distance (m)\",FloatType(),True) \\\n",
    "      .add(\"duration (sec.)\",FloatType(),True) \\\n",
    "      .add(\"avg_speed (km/h)\",FloatType(),True) \\\n",
    "      .add(\"departure_latitude\",FloatType(),True) \\\n",
    "      .add(\"departure_longitude\",FloatType(),True) \\\n",
    "      .add(\"return_latitude\",FloatType(),True) \\\n",
    "      .add(\"return_longitude\",FloatType(),True) \\\n",
    "      .add(\"Air temperature (degC)\",FloatType(),True) "
   ]
  },
  {
   "cell_type": "code",
   "execution_count": 4,
   "id": "82198471-5246-49f1-ae80-7cc9a083e37f",
   "metadata": {},
   "outputs": [
    {
     "name": "stdout",
     "output_type": "stream",
     "text": [
      "root\n",
      " |-- departure: timestamp (nullable = true)\n",
      " |-- return: timestamp (nullable = true)\n",
      " |-- departure_id: string (nullable = true)\n",
      " |-- departure_name: string (nullable = true)\n",
      " |-- return_id: string (nullable = true)\n",
      " |-- return_name: string (nullable = true)\n",
      " |-- distance (m): float (nullable = true)\n",
      " |-- duration (sec.): float (nullable = true)\n",
      " |-- avg_speed (km/h): float (nullable = true)\n",
      " |-- departure_latitude: float (nullable = true)\n",
      " |-- departure_longitude: float (nullable = true)\n",
      " |-- return_latitude: float (nullable = true)\n",
      " |-- return_longitude: float (nullable = true)\n",
      " |-- Air temperature (degC): float (nullable = true)\n",
      "\n"
     ]
    }
   ],
   "source": [
    "df_with_schema = spark.read.format(\"csv\") \\\n",
    "      .option(\"header\", True) \\\n",
    "      .schema(my_schema) \\\n",
    "      .load(\"database.csv\")\n",
    "df_with_schema.printSchema()"
   ]
  },
  {
   "cell_type": "code",
   "execution_count": 9,
   "id": "e1111e6e-58cf-4033-bb8e-22d4c6c01cb6",
   "metadata": {},
   "outputs": [
    {
     "name": "stderr",
     "output_type": "stream",
     "text": [
      "[Stage 0:>                                                          (0 + 1) / 1]\r"
     ]
    },
    {
     "name": "stdout",
     "output_type": "stream",
     "text": [
      "+-------------------+-------------------+------------+------------------+---------+---------------------+------------+---------------+----------------+------------------+-------------------+---------------+----------------+----------------------+-------+\n",
      "|departure          |return             |departure_id|departure_name    |return_id|return_name          |distance (m)|duration (sec.)|avg_speed (km/h)|departure_latitude|departure_longitude|return_latitude|return_longitude|Air temperature (degC)|months |\n",
      "+-------------------+-------------------+------------+------------------+---------+---------------------+------------+---------------+----------------+------------------+-------------------+---------------+----------------+----------------------+-------+\n",
      "|2020-03-23 06:09:44|2020-03-23 06:16:26|86          |Kuusitie          |111.0    |Esterinportti        |1747.0      |401.0          |0.2613965       |60.195244         |24.9019            |60.19757       |24.92678        |0.9                   |2020-03|\n",
      "|2020-03-23 06:11:58|2020-03-23 06:26:31|26          |Kamppi (M)        |10.0     |Kasarmitori          |1447.0      |869.0          |0.09990794      |60.16861          |24.930538          |60.165016      |24.949472       |0.9                   |2020-03|\n",
      "|2020-03-23 06:16:29|2020-03-23 06:24:23|268         |Porolahden koulu  |254.0    |Agnetankuja          |1772.0      |469.0          |0.22669509      |60.19554          |25.053581          |60.187233      |25.036413       |0.9                   |2020-03|\n",
      "|2020-03-23 06:33:53|2020-03-23 07:14:03|751         |Vallipolku        |106.0    |Korppaanmäentie      |7456.0      |2406.0         |0.18593517      |60.227825         |24.819614          |60.203472      |24.89893        |0.9                   |2020-03|\n",
      "|2020-03-23 06:36:09|2020-03-23 07:04:10|62          |Länsisatamankatu  |121.0    |Vilhonvuorenkatu     |7120.0      |1679.0         |0.25443718      |60.158928         |24.909693          |60.186462      |24.967873       |0.9                   |2020-03|\n",
      "|2020-03-23 06:37:52|2020-03-23 06:58:56|108         |Radiokatu         |18.0     |Porthania            |5169.0      |1262.0         |0.24575277      |60.20499          |24.918419          |60.16986       |24.948147       |0.9                   |2020-03|\n",
      "|2020-03-23 06:39:51|2020-03-23 06:45:30|64          |Tyynenmerenkatu   |6.0      |Hietalahdentori      |1194.0      |335.0          |0.21385075      |60.156837         |24.920662          |60.162224      |24.92971        |0.9                   |2020-03|\n",
      "|2020-03-23 06:44:37|2020-03-24 12:02:19|30          |Itämerentori      |83.0     |Meilahden sairaala   |3651.0      |1195.0         |0.1833138       |60.163532         |24.914516          |60.19022       |24.908335       |0.9                   |2020-03|\n",
      "|2020-03-23 06:47:18|2020-03-23 07:01:09|142         |Koskelantie       |126.0    |Kalasatama (M)       |3120.0      |827.0          |0.22636034      |60.208748         |24.946514          |60.187557      |24.977068       |0.9                   |2020-03|\n",
      "|2020-03-23 06:47:22|2020-03-23 06:56:22|112         |Rautatieläisenkatu|204.0    |A.I. Virtasen aukio  |2070.0      |535.0          |0.23214953      |60.20144          |24.933271          |60.205578      |24.962152       |0.9                   |2020-03|\n",
      "|2020-03-23 06:53:10|2020-03-23 07:00:38|37          |Töölönkatu        |19.0     |Rautatientori / itä  |1418.0      |447.0          |0.19033557      |60.17756          |24.928328          |60.170822      |24.942526       |0.9                   |2020-03|\n",
      "|2020-03-23 06:53:59|2020-03-23 07:04:07|267         |Roihupelto        |262.0    |Siilitie (M)         |1404.0      |603.0          |0.13970149      |60.209286         |25.055529          |60.205963      |25.04516        |0.9                   |2020-03|\n",
      "|2020-03-23 06:55:12|2020-03-23 14:46:02|121         |Vilhonvuorenkatu  |40.0     |Hakaniemi (M)        |1272.0      |469.0          |0.1627292       |60.186462         |24.967873          |60.17811       |24.95218        |0.9                   |2020-03|\n",
      "|2020-03-23 06:55:30|2020-03-23 07:09:42|62          |Länsisatamankatu  |74.0     |Rajasaarentie        |2727.0      |850.0          |0.19249412      |60.158928         |24.909693          |60.183136      |24.911127       |0.9                   |2020-03|\n",
      "|2020-03-23 06:56:44|2020-03-23 07:06:28|123         |Näkinsilta        |19.0     |Rautatientori / itä  |1615.0      |579.0          |0.16735752      |60.179764         |24.955462          |60.170822      |24.942526       |0.9                   |2020-03|\n",
      "|2020-03-23 06:57:41|2020-03-23 07:13:49|23          |Kiasma            |126.0    |Kalasatama (M)       |0.0         |963.0          |0.0             |60.171257         |24.937428          |60.187557      |24.977068       |0.9                   |2020-03|\n",
      "|2020-03-23 06:58:24|2020-03-23 07:04:37|14          |Senaatintori      |22.0     |Rautatientori / länsi|824.0       |368.0          |0.13434783      |60.16913          |24.95264           |60.170605      |24.93976        |0.9                   |2020-03|\n",
      "|2020-03-23 07:02:19|2020-03-24 12:01:52|76          |Olympiastadion    |83.0     |Meilahden sairaala   |1359.0      |538.0          |0.15156133      |60.184505         |24.924974          |60.19022       |24.908335       |1.1                   |2020-03|\n",
      "|2020-03-23 07:04:04|2020-03-23 07:11:05|89          |Tilkanvierto      |111.0    |Esterinportti        |1688.0      |414.0          |0.24463768      |60.197533         |24.899261          |60.19757       |24.92678        |1.1                   |2020-03|\n",
      "|2020-03-23 07:04:36|2020-03-23 07:31:01|121         |Vilhonvuorenkatu  |121.0    |Vilhonvuorenkatu     |6480.0      |1583.0         |0.2456096       |60.186462         |24.967873          |60.186462      |24.967873       |1.1                   |2020-03|\n",
      "+-------------------+-------------------+------------+------------------+---------+---------------------+------------+---------------+----------------+------------------+-------------------+---------------+----------------+----------------------+-------+\n",
      "only showing top 20 rows\n",
      "\n"
     ]
    },
    {
     "name": "stderr",
     "output_type": "stream",
     "text": [
      "                                                                                \r"
     ]
    }
   ],
   "source": [
    "new_df = df_with_schema.withColumn(\"months\", substring(\"departure\", 1,7))\n",
    "new_df.show(truncate=False)"
   ]
  },
  {
   "cell_type": "code",
   "execution_count": 6,
   "id": "b4ed2061-9cc4-456e-a2cf-7f533661aadc",
   "metadata": {},
   "outputs": [
    {
     "name": "stderr",
     "output_type": "stream",
     "text": [
      "[Stage 1:=================================================>       (13 + 2) / 15]\r"
     ]
    },
    {
     "name": "stdout",
     "output_type": "stream",
     "text": [
      "[Row(months='2020-06'), Row(months='2020-05'), Row(months='2020-03'), Row(months='2020-04'), Row(months='2020-07'), Row(months='2020-08'), Row(months='2019-04'), Row(months='2020-09'), Row(months='2020-10'), Row(months='2019-05'), Row(months='2019-07'), Row(months='2019-06'), Row(months='2019-08'), Row(months='2019-09'), Row(months='2019-10'), Row(months='2018-05'), Row(months='2018-04'), Row(months='2018-06'), Row(months='2018-08'), Row(months='2018-07'), Row(months='2018-09'), Row(months='2018-10'), Row(months='2017-05'), Row(months='2016-09'), Row(months='2016-10'), Row(months='2016-05'), Row(months='2016-07'), Row(months='2016-06'), Row(months='2016-08'), Row(months='2017-08'), Row(months='2017-06'), Row(months='2017-07'), Row(months='2017-09'), Row(months='2017-10')]\n"
     ]
    },
    {
     "name": "stderr",
     "output_type": "stream",
     "text": [
      "                                                                                \r"
     ]
    }
   ],
   "source": [
    "month = new_df.select(\"months\").distinct().collect()\n",
    "print(month)"
   ]
  },
  {
   "cell_type": "code",
   "execution_count": 7,
   "id": "4ff5894f-12f7-43f5-849d-b7ea6970a87c",
   "metadata": {},
   "outputs": [
    {
     "name": "stderr",
     "output_type": "stream",
     "text": [
      "                                                                                \r"
     ]
    }
   ],
   "source": [
    "#creating new csv files\n",
    "new_df.repartition(\"months\").write.partitionBy(\"months\").format(\"com.databricks.spark.csv\").option(\"header\",True).mode('append').save(\"data/months\")"
   ]
  },
  {
   "cell_type": "code",
   "execution_count": 8,
   "id": "06dc8ff3-ca5a-4476-9bf7-fe876d4aa34d",
   "metadata": {},
   "outputs": [],
   "source": [
    "#IMPORTANT NOTE! Please don't forget to delete success files manually\n",
    "#creating coherent names for csv files months=year_month\n",
    "\n",
    "path = '/home/alena/Data/Localstack/data/months'\n",
    "subdirs = os.listdir('/home/alena/Data/Localstack/data/months')\n",
    "for subdir in subdirs:\n",
    "    files = os.listdir(os.path.join(path, subdir))\n",
    "    for file in files:\n",
    "        file_extension = [x for x in os.path.splitext(file)]\n",
    "        filepath = os.path.join(path,subdir)\n",
    "        if file_extension[1] == '.csv':\n",
    "            os.rename(os.path.join(filepath, file), os.path.join(filepath, f\"{subdir}\"))"
   ]
  },
  {
   "cell_type": "code",
   "execution_count": 10,
   "id": "d0bc8a65-8617-434c-8d9b-997e5b851875",
   "metadata": {},
   "outputs": [],
   "source": [
    "#Метрика которая будет группировать сколько раз брали на одной станции (departure_name)\n",
    "table1 = new_df.groupBy(\"departure_name\").count().withColumnRenamed(\"count\",\"count_taken\")"
   ]
  },
  {
   "cell_type": "code",
   "execution_count": 11,
   "id": "466b81f2-9dcc-4242-91fd-8fc373c619db",
   "metadata": {},
   "outputs": [],
   "source": [
    "#Метрика которая будет группировать сколько раз вернули на одной станции (return_name)\n",
    "table2 = new_df.groupBy(\"return_name\").count().withColumnRenamed(\"count\",\"count_returned\")"
   ]
  },
  {
   "cell_type": "code",
   "execution_count": 12,
   "id": "063c6ce8-8682-4ae8-9391-e5385f889b02",
   "metadata": {},
   "outputs": [
    {
     "name": "stderr",
     "output_type": "stream",
     "text": [
      "[Stage 8:=====================================================>   (14 + 1) / 15]\r"
     ]
    },
    {
     "name": "stdout",
     "output_type": "stream",
     "text": [
      "+--------------------+-----------+--------------+\n",
      "|      departure_name|count_taken|count_returned|\n",
      "+--------------------+-----------+--------------+\n",
      "|         Olarinluoma|       7047|          8163|\n",
      "|          Marjaniemi|       2882|          2985|\n",
      "|      Diakoniapuisto|     112022|        100651|\n",
      "|      Eteläesplanadi|      77197|         83746|\n",
      "|          Länsituuli|      34177|         33464|\n",
      "|   Pitäjänmäen asema|       8522|          8100|\n",
      "|   Vanha Kauppahalli|      31638|         33020|\n",
      "|            Kuunkatu|      14031|         13405|\n",
      "|         Puotinharju|       6160|          6123|\n",
      "|     Herttoniemi (M)|      30771|         30040|\n",
      "|  Viikin tiedepuisto|      21728|         21896|\n",
      "|Laivalahden puist...|      11519|         12043|\n",
      "|             Tietäjä|       9411|          8795|\n",
      "|     Kirkkoherrantie|       4530|          4372|\n",
      "|       Revontulentie|      13357|         13163|\n",
      "|      Siltavoudintie|       4438|          4333|\n",
      "|            Narinkka|     122355|        121614|\n",
      "| Töölönlahden puisto|      73046|         72823|\n",
      "|             Ooppera|     132246|        134089|\n",
      "|      Gebhardinaukio|      41636|         39224|\n",
      "+--------------------+-----------+--------------+\n",
      "only showing top 20 rows\n",
      "\n"
     ]
    },
    {
     "name": "stderr",
     "output_type": "stream",
     "text": [
      "                                                                                \r"
     ]
    }
   ],
   "source": [
    "#result_table = table1.join(table2,table1[\"departure_name\"] == table2[\"return_name\"])\n",
    "result_table = table1.join(table2,table1[\"departure_name\"] == table2[\"return_name\"]).select('departure_name', 'count_taken', 'count_returned')\n",
    "result_table.show()"
   ]
  },
  {
   "cell_type": "code",
   "execution_count": null,
   "id": "66a91846-8ab4-4091-a610-8e39b9b805eb",
   "metadata": {},
   "outputs": [],
   "source": []
  }
 ],
 "metadata": {
  "kernelspec": {
   "display_name": "Python 3 (ipykernel)",
   "language": "python",
   "name": "python3"
  },
  "language_info": {
   "codemirror_mode": {
    "name": "ipython",
    "version": 3
   },
   "file_extension": ".py",
   "mimetype": "text/x-python",
   "name": "python",
   "nbconvert_exporter": "python",
   "pygments_lexer": "ipython3",
   "version": "3.10.6"
  }
 },
 "nbformat": 4,
 "nbformat_minor": 5
}
